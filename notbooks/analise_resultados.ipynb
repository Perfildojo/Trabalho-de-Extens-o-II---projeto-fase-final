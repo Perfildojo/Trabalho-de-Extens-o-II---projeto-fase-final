{
 "cells": [
  {
   "cell_type": "code",
   "execution_count": 6,
   "metadata": {},
   "outputs": [
    {
     "name": "stdout",
     "output_type": "stream",
     "text": [
      "As colunas 'y_true' e 'y_pred' não estão presentes em 'resultados'. Colunas disponíveis: ['bairro', 'ocorrencia', 'rua', 'imagem']\n",
      "Arquivo não encontrado: ../data/processed/dataset.csv. Verifique o caminho do arquivo e tente novamente.\n"
     ]
    }
   ],
   "source": [
    "import pandas as pd\n",
    "import matplotlib.pyplot as plt\n",
    "from sklearn.metrics import confusion_matrix, accuracy_score, classification_report\n",
    "from sklearn.model_selection import train_test_split\n",
    "from sklearn.ensemble import RandomForestClassifier\n",
    "import seaborn as sns\n",
    "\n",
    "# Carregar previsões e resultados\n",
    "resultados = pd.read_csv(\"../data/processed/resultados_modelo.csv\")\n",
    "\n",
    "# Verifica se as colunas de verdadeiros e previstos existem\n",
    "if \"y_true\" in resultados.columns and \"y_pred\" in resultados.columns:\n",
    "    # Matriz de confusão\n",
    "    cm = confusion_matrix(resultados[\"y_true\"], resultados[\"y_pred\"])\n",
    "    plt.figure(figsize=(8, 6))\n",
    "    sns.heatmap(cm, annot=True, fmt=\"d\", cmap=\"Blues\", xticklabels=[\"Classe 0\", \"Classe 1\"], yticklabels=[\"Classe 0\", \"Classe 1\"])\n",
    "    plt.title(\"Matriz de Confusão\")\n",
    "    plt.xlabel(\"Previsão\")\n",
    "    plt.ylabel(\"Real\")\n",
    "    plt.show()\n",
    "\n",
    "    # Análise de erros\n",
    "    erros = resultados[resultados[\"y_true\"] != resultados[\"y_pred\"]]\n",
    "    print(\"Exemplos de erros:\\n\", erros.head())\n",
    "else:\n",
    "    print(\"As colunas 'y_true' e 'y_pred' não estão presentes em 'resultados'. Colunas disponíveis:\", resultados.columns.tolist())\n",
    "\n",
    "# Otimização de hiperparâmetros (exemplo com GridSearchCV)\n",
    "from sklearn.model_selection import GridSearchCV\n",
    "\n",
    "import os\n",
    "\n",
    "# Caminho para o dataset\n",
    "dataset_path = \"../data/processed/dataset.csv\"\n",
    "\n",
    "if os.path.exists(dataset_path):\n",
    "    # Carregar dados de treino (ajuste o caminho e o nome das colunas conforme seu dataset)\n",
    "    df = pd.read_csv(dataset_path)  # Substitua pelo caminho correto do seu dataset\n",
    "    X = df.drop(columns=[\"target\"])  # Substitua \"target\" pelo nome da coluna alvo\n",
    "    y = df[\"target\"]                 # Substitua \"target\" pelo nome da coluna alvo\n",
    "\n",
    "    X_train, X_test, y_train, y_test = train_test_split(X, y, test_size=0.2, random_state=42)\n",
    "\n",
    "    parametros = {\n",
    "        \"n_estimators\": [50, 100, 200],\n",
    "        \"max_depth\": [None, 10, 20],\n",
    "        \"min_samples_split\": [2, 5, 10]\n",
    "    }\n",
    "\n",
    "    grid_search = GridSearchCV(RandomForestClassifier(random_state=42), parametros, cv=5, scoring=\"accuracy\")\n",
    "    grid_search.fit(X_train, y_train)\n",
    "\n",
    "    print(\"Melhores hiperparâmetros:\", grid_search.best_params_)\n",
    "    print(\"Melhor acurácia:\", grid_search.best_score_)\n",
    "else:\n",
    "    print(f\"Arquivo não encontrado: {dataset_path}. Verifique o caminho do arquivo e tente novamente.\")"
   ]
  },
  {
   "cell_type": "code",
   "execution_count": null,
   "metadata": {},
   "outputs": [],
   "source": []
  }
 ],
 "metadata": {
  "kernelspec": {
   "display_name": "Python 3",
   "language": "python",
   "name": "python3"
  },
  "language_info": {
   "codemirror_mode": {
    "name": "ipython",
    "version": 3
   },
   "file_extension": ".py",
   "mimetype": "text/x-python",
   "name": "python",
   "nbconvert_exporter": "python",
   "pygments_lexer": "ipython3",
   "version": "3.13.1"
  }
 },
 "nbformat": 4,
 "nbformat_minor": 2
}
